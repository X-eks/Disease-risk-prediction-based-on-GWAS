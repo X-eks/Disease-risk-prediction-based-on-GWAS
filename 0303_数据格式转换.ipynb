{
 "metadata": {
  "language_info": {
   "codemirror_mode": {
    "name": "ipython",
    "version": 3
   },
   "file_extension": ".py",
   "mimetype": "text/x-python",
   "name": "python",
   "nbconvert_exporter": "python",
   "pygments_lexer": "ipython3",
   "version": "3.7.0"
  },
  "orig_nbformat": 4,
  "kernelspec": {
   "name": "python3",
   "display_name": "Python 3.7.0 64-bit (conda)"
  },
  "interpreter": {
   "hash": "73e03da126b73bfff3642ec5261d56fa25c444ea595de51041687efaa60dda41"
  }
 },
 "nbformat": 4,
 "nbformat_minor": 2,
 "cells": [
  {
   "cell_type": "code",
   "execution_count": 4,
   "metadata": {},
   "outputs": [],
   "source": [
    "import re\n",
    "\n",
    "file_dir = \"D:/2_Professional Courses/132_基因项目/GWAS数据/新增_20基因数据/1.vcf\"\n",
    "with open(file_dir, 'r', encoding='utf-8') as rf:\n",
    "    column = []\n",
    "    datas = []\n",
    "    for line in rf.readlines():\n",
    "        if line.startswith('#') and line.startswith(\"##\") == False: #跳过##部分\n",
    "            column=[ i for i in str(line).lstrip('#').split()] #列标签\n",
    "        elif line.startswith('#') == False:\n",
    "            datas.append([ i for i in str(line).split()]) #数据      "
   ]
  },
  {
   "cell_type": "code",
   "execution_count": 23,
   "metadata": {},
   "outputs": [
    {
     "output_type": "execute_result",
     "data": {
      "text/plain": [
       "638653"
      ]
     },
     "metadata": {},
     "execution_count": 23
    }
   ],
   "source": [
    "len(datas)"
   ]
  },
  {
   "cell_type": "code",
   "execution_count": 18,
   "metadata": {},
   "outputs": [
    {
     "output_type": "execute_result",
     "data": {
      "text/plain": [
       "['chr1',\n",
       " '821401',\n",
       " 'AX-37361821',\n",
       " 'G',\n",
       " 'A',\n",
       " '.',\n",
       " 'PASS',\n",
       " 'CR=100;ConversionType=PolyHighResolution',\n",
       " 'GT',\n",
       " '0/0']"
      ]
     },
     "metadata": {},
     "execution_count": 18
    }
   ],
   "source": [
    "datas[0]"
   ]
  },
  {
   "cell_type": "code",
   "execution_count": 60,
   "metadata": {
    "tags": []
   },
   "outputs": [],
   "source": [
    "import numpy as np\n",
    "andMe = [['# rsid', 'chromosome', 'position', 'genotype']]\n",
    "for data in datas:\n",
    "    # 获取 rsID\n",
    "    try: \n",
    "        rs_info=re.findall(r'RSID=[\\w]*',data[7])[0]   #截取rsID\n",
    "        rsid=rs_info[5:]\n",
    "    except IndexError:\n",
    "        continue\n",
    "\n",
    "    # 获取 chromosome\n",
    "    chromosome = re.findall(r'chr[\\w]*',data[0])[0][3:]\n",
    "\n",
    "    # 获取 position\n",
    "    position = data[1]\n",
    "\n",
    "    # 获取 genotype\n",
    "    abbr_code=data[-1]\n",
    "    if abbr_code[0] == '0' and abbr_code[2] == '0': #根据s1得到REF和ALT\n",
    "        genotype = data[3] + data[3]\n",
    "    elif abbr_code[0] == '0' and abbr_code[2] == '1':\n",
    "        genotype = data[3] + data[4]\n",
    "    elif abbr_code[0] == '1' and abbr_code[2] == '1':\n",
    "        genotype = data[4] + data[4]\n",
    "\n",
    "    #将数据载入新数组\n",
    "    andMe.append([rsid, chromosome, position, genotype])"
   ]
  },
  {
   "cell_type": "code",
   "execution_count": 62,
   "metadata": {},
   "outputs": [],
   "source": [
    "andMe=np.array(andMe)"
   ]
  },
  {
   "cell_type": "code",
   "execution_count": 65,
   "metadata": {},
   "outputs": [],
   "source": [
    "np.savetxt('23andme_vcf1.txt',andMe, delimiter= '   ', fmt = '%s') "
   ]
  },
  {
   "cell_type": "code",
   "execution_count": null,
   "metadata": {},
   "outputs": [],
   "source": []
  }
 ]
}