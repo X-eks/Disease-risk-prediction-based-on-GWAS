{
 "metadata": {
  "language_info": {
   "codemirror_mode": {
    "name": "ipython",
    "version": 3
   },
   "file_extension": ".py",
   "mimetype": "text/x-python",
   "name": "python",
   "nbconvert_exporter": "python",
   "pygments_lexer": "ipython3",
   "version": "3.7.0"
  },
  "orig_nbformat": 4,
  "kernelspec": {
   "name": "python3",
   "display_name": "Python 3.7.0 64-bit ('ProgramData': virtualenv)"
  },
  "interpreter": {
   "hash": "73e03da126b73bfff3642ec5261d56fa25c444ea595de51041687efaa60dda41"
  }
 },
 "nbformat": 4,
 "nbformat_minor": 2,
 "cells": [
  {
   "cell_type": "code",
   "execution_count": 6,
   "metadata": {},
   "outputs": [
    {
     "output_type": "execute_result",
     "data": {
      "text/plain": [
       "     Chinese                       English      No.1      No.2      No.3  \\\n",
       "0       黑色素瘤                      Melanoma  0.000000  0.275050  0.000000   \n",
       "1  慢性淋巴细胞白血病  Chronic lymphocytic leukemia  0.414431  0.501671  0.519456   \n",
       "2     成神经细胞瘤                 Neuroblastoma  0.500000  0.500000  1.000000   \n",
       "3       尤文肉瘤                 Ewing sarcoma  0.500000  1.000000  1.000000   \n",
       "4      基底细胞癌          Basal cell carcinoma  0.211996  0.250663  0.303299   \n",
       "\n",
       "   Num_GWAS  Num_Match_SNP                                           SNP_info  \n",
       "0        73              4  {'rs401681': [['A', 0.1823215567939546]], 'rs4...  \n",
       "1       121             16  {'rs674313': [['T', 0.5247285289349821]], 'rs3...  \n",
       "2        10              1        {'rs9295536': [['A', 0.30527638085273207]]}  \n",
       "3         7              1         {'rs9430161': [['G', 0.7884573603642703]]}  \n",
       "4       140             11  {'rs401681': [['C', 0.20701416938432612]], 'rs...  "
      ],
      "text/html": "<div>\n<style scoped>\n    .dataframe tbody tr th:only-of-type {\n        vertical-align: middle;\n    }\n\n    .dataframe tbody tr th {\n        vertical-align: top;\n    }\n\n    .dataframe thead th {\n        text-align: right;\n    }\n</style>\n<table border=\"1\" class=\"dataframe\">\n  <thead>\n    <tr style=\"text-align: right;\">\n      <th></th>\n      <th>Chinese</th>\n      <th>English</th>\n      <th>No.1</th>\n      <th>No.2</th>\n      <th>No.3</th>\n      <th>Num_GWAS</th>\n      <th>Num_Match_SNP</th>\n      <th>SNP_info</th>\n    </tr>\n  </thead>\n  <tbody>\n    <tr>\n      <th>0</th>\n      <td>黑色素瘤</td>\n      <td>Melanoma</td>\n      <td>0.000000</td>\n      <td>0.275050</td>\n      <td>0.000000</td>\n      <td>73</td>\n      <td>4</td>\n      <td>{'rs401681': [['A', 0.1823215567939546]], 'rs4...</td>\n    </tr>\n    <tr>\n      <th>1</th>\n      <td>慢性淋巴细胞白血病</td>\n      <td>Chronic lymphocytic leukemia</td>\n      <td>0.414431</td>\n      <td>0.501671</td>\n      <td>0.519456</td>\n      <td>121</td>\n      <td>16</td>\n      <td>{'rs674313': [['T', 0.5247285289349821]], 'rs3...</td>\n    </tr>\n    <tr>\n      <th>2</th>\n      <td>成神经细胞瘤</td>\n      <td>Neuroblastoma</td>\n      <td>0.500000</td>\n      <td>0.500000</td>\n      <td>1.000000</td>\n      <td>10</td>\n      <td>1</td>\n      <td>{'rs9295536': [['A', 0.30527638085273207]]}</td>\n    </tr>\n    <tr>\n      <th>3</th>\n      <td>尤文肉瘤</td>\n      <td>Ewing sarcoma</td>\n      <td>0.500000</td>\n      <td>1.000000</td>\n      <td>1.000000</td>\n      <td>7</td>\n      <td>1</td>\n      <td>{'rs9430161': [['G', 0.7884573603642703]]}</td>\n    </tr>\n    <tr>\n      <th>4</th>\n      <td>基底细胞癌</td>\n      <td>Basal cell carcinoma</td>\n      <td>0.211996</td>\n      <td>0.250663</td>\n      <td>0.303299</td>\n      <td>140</td>\n      <td>11</td>\n      <td>{'rs401681': [['C', 0.20701416938432612]], 'rs...</td>\n    </tr>\n  </tbody>\n</table>\n</div>"
     },
     "metadata": {},
     "execution_count": 6
    }
   ],
   "source": [
    "import pandas as pd \n",
    "import numpy as np\n",
    "data_OR=pd.read_excel('Score_OR_valid.xlsx')\n",
    "data_OR.head()"
   ]
  },
  {
   "source": [
    "# 风险等级函数\n"
   ],
   "cell_type": "markdown",
   "metadata": {}
  },
  {
   "cell_type": "code",
   "execution_count": 7,
   "metadata": {},
   "outputs": [],
   "source": [
    "#风险对应表--1（文字版）\n",
    "def Risk_Level_1(RR):\n",
    "    if RR<0.5:\n",
    "        return '显著低于一般人群'\n",
    "    elif RR<0.9:\n",
    "        return '低于一般人群'\n",
    "    elif RR<1.1:\n",
    "        return '相当于一般人群'\n",
    "    elif RR<2.0:\n",
    "        return '高于一般人群'\n",
    "    else:\n",
    "        return '显著高于一般人群'"
   ]
  },
  {
   "cell_type": "code",
   "execution_count": 8,
   "metadata": {},
   "outputs": [],
   "source": [
    "#风险对应表--2（等级版）\n",
    "def Risk_Level_2(RR):\n",
    "    if RR<0.5:\n",
    "        return '1'\n",
    "    elif RR<0.9:\n",
    "        return '2'\n",
    "    elif RR<1.1:\n",
    "        return '3'\n",
    "    elif RR<2.0:\n",
    "        return '4'\n",
    "    else:\n",
    "        return '5'"
   ]
  },
  {
   "source": [
    "# 基础计算"
   ],
   "cell_type": "markdown",
   "metadata": {}
  },
  {
   "cell_type": "code",
   "execution_count": 14,
   "metadata": {},
   "outputs": [],
   "source": [
    "from math import nan\n",
    "#计算群体风险均值\n",
    "RR_avg=[]\n",
    "for index, row in data_OR.iterrows():\n",
    "    RR_avg.append(np.mean([row['No.1'], row['No.2'], row['No.3']]))\n",
    "\n",
    "#准备数据，计算RR\n",
    "output_data=pd.DataFrame(data_OR,columns=['Chinese', 'English', 'No.1', 'SNP_info'])\n",
    "output_data=output_data.rename(columns={'No.1':'risk score'})\n",
    "RR_list=[]\n",
    "for index, row in output_data.iterrows():\n",
    "    if RR_avg[index]==0:\n",
    "        RR_list.append(nan)\n",
    "    else:\n",
    "        RR_list.append(row['risk score']/RR_avg[index])\n",
    "output_data['risk_ratio']=RR_list\n",
    "#删去RR==0的值，删去风险分数列\n",
    "output_data=output_data.drop(output_data[output_data['risk_ratio'].isna()].index)\n",
    "output_data=pd.DataFrame(output_data,columns=['Chinese', 'English', 'risk_ratio', 'SNP_info'])\n",
    "#按照RR排序\n",
    "output_data=output_data.sort_values(by=['risk_ratio'], ascending=False)\n",
    "output_data.reset_index(drop=True,inplace=True)"
   ]
  },
  {
   "cell_type": "code",
   "execution_count": 16,
   "metadata": {},
   "outputs": [
    {
     "output_type": "execute_result",
     "data": {
      "text/plain": [
       "    Chinese                         English  risk_ratio  \\\n",
       "0  进行性核上性麻痹  Progressive supranuclear palsy    3.000000   \n",
       "1      赌博倾向           Pathological gambling    3.000000   \n",
       "2       自闭症                          Autism    2.860524   \n",
       "3       胰腺癌               Pancreatic cancer    1.671239   \n",
       "4    强直性脊柱炎          Ankylosing spondylitis    1.625531   \n",
       "\n",
       "                                            SNP_info  \n",
       "0          {'rs242557': [['G', 0.6450592697528901]]}  \n",
       "1         {'rs7591351': [['T', 0.5128236264286637]]}  \n",
       "2  {'rs10038113': [['T', 0.28517894223366247]], '...  \n",
       "3  {'rs2039553': [['A', 0.5481214085096876]], 'rs...  \n",
       "4  {'rs10865331': [['A', 0.23901690047049992]], '...  "
      ],
      "text/html": "<div>\n<style scoped>\n    .dataframe tbody tr th:only-of-type {\n        vertical-align: middle;\n    }\n\n    .dataframe tbody tr th {\n        vertical-align: top;\n    }\n\n    .dataframe thead th {\n        text-align: right;\n    }\n</style>\n<table border=\"1\" class=\"dataframe\">\n  <thead>\n    <tr style=\"text-align: right;\">\n      <th></th>\n      <th>Chinese</th>\n      <th>English</th>\n      <th>risk_ratio</th>\n      <th>SNP_info</th>\n    </tr>\n  </thead>\n  <tbody>\n    <tr>\n      <th>0</th>\n      <td>进行性核上性麻痹</td>\n      <td>Progressive supranuclear palsy</td>\n      <td>3.000000</td>\n      <td>{'rs242557': [['G', 0.6450592697528901]]}</td>\n    </tr>\n    <tr>\n      <th>1</th>\n      <td>赌博倾向</td>\n      <td>Pathological gambling</td>\n      <td>3.000000</td>\n      <td>{'rs7591351': [['T', 0.5128236264286637]]}</td>\n    </tr>\n    <tr>\n      <th>2</th>\n      <td>自闭症</td>\n      <td>Autism</td>\n      <td>2.860524</td>\n      <td>{'rs10038113': [['T', 0.28517894223366247]], '...</td>\n    </tr>\n    <tr>\n      <th>3</th>\n      <td>胰腺癌</td>\n      <td>Pancreatic cancer</td>\n      <td>1.671239</td>\n      <td>{'rs2039553': [['A', 0.5481214085096876]], 'rs...</td>\n    </tr>\n    <tr>\n      <th>4</th>\n      <td>强直性脊柱炎</td>\n      <td>Ankylosing spondylitis</td>\n      <td>1.625531</td>\n      <td>{'rs10865331': [['A', 0.23901690047049992]], '...</td>\n    </tr>\n  </tbody>\n</table>\n</div>"
     },
     "metadata": {},
     "execution_count": 16
    }
   ],
   "source": [
    "output_data.head(5)"
   ]
  },
  {
   "cell_type": "code",
   "execution_count": 17,
   "metadata": {},
   "outputs": [
    {
     "output_type": "execute_result",
     "data": {
      "text/plain": [
       "(93, 4)"
      ]
     },
     "metadata": {},
     "execution_count": 17
    }
   ],
   "source": [
    "output_data.shape"
   ]
  },
  {
   "source": [
    "# 输出三个版本的数据    \n",
    "1. 风险比率（output_data）\n",
    "2. 文字版描述（output_data_2）\n",
    "3. 1-5个等级（output_data_3）"
   ],
   "cell_type": "markdown",
   "metadata": {}
  },
  {
   "cell_type": "code",
   "execution_count": 18,
   "metadata": {},
   "outputs": [
    {
     "output_type": "stream",
     "name": "stderr",
     "text": [
      "D:\\ProgramData\\Anaconda3\\lib\\site-packages\\ipykernel_launcher.py:5: SettingWithCopyWarning: \nA value is trying to be set on a copy of a slice from a DataFrame\n\nSee the caveats in the documentation: http://pandas.pydata.org/pandas-docs/stable/indexing.html#indexing-view-versus-copy\n  \"\"\"\nD:\\ProgramData\\Anaconda3\\lib\\site-packages\\pandas\\core\\indexing.py:189: SettingWithCopyWarning: \nA value is trying to be set on a copy of a slice from a DataFrame\n\nSee the caveats in the documentation: http://pandas.pydata.org/pandas-docs/stable/indexing.html#indexing-view-versus-copy\n  self._setitem_with_indexer(indexer, value)\n"
     ]
    },
    {
     "output_type": "execute_result",
     "data": {
      "text/plain": [
       "    Chinese                         English risk_ratio  \\\n",
       "0  进行性核上性麻痹  Progressive supranuclear palsy   显著高于一般人群   \n",
       "1      赌博倾向           Pathological gambling   显著高于一般人群   \n",
       "2       自闭症                          Autism   显著高于一般人群   \n",
       "3       胰腺癌               Pancreatic cancer     高于一般人群   \n",
       "4    强直性脊柱炎          Ankylosing spondylitis     高于一般人群   \n",
       "\n",
       "                                            SNP_info  \n",
       "0          {'rs242557': [['G', 0.6450592697528901]]}  \n",
       "1         {'rs7591351': [['T', 0.5128236264286637]]}  \n",
       "2  {'rs10038113': [['T', 0.28517894223366247]], '...  \n",
       "3  {'rs2039553': [['A', 0.5481214085096876]], 'rs...  \n",
       "4  {'rs10865331': [['A', 0.23901690047049992]], '...  "
      ],
      "text/html": "<div>\n<style scoped>\n    .dataframe tbody tr th:only-of-type {\n        vertical-align: middle;\n    }\n\n    .dataframe tbody tr th {\n        vertical-align: top;\n    }\n\n    .dataframe thead th {\n        text-align: right;\n    }\n</style>\n<table border=\"1\" class=\"dataframe\">\n  <thead>\n    <tr style=\"text-align: right;\">\n      <th></th>\n      <th>Chinese</th>\n      <th>English</th>\n      <th>risk_ratio</th>\n      <th>SNP_info</th>\n    </tr>\n  </thead>\n  <tbody>\n    <tr>\n      <th>0</th>\n      <td>进行性核上性麻痹</td>\n      <td>Progressive supranuclear palsy</td>\n      <td>显著高于一般人群</td>\n      <td>{'rs242557': [['G', 0.6450592697528901]]}</td>\n    </tr>\n    <tr>\n      <th>1</th>\n      <td>赌博倾向</td>\n      <td>Pathological gambling</td>\n      <td>显著高于一般人群</td>\n      <td>{'rs7591351': [['T', 0.5128236264286637]]}</td>\n    </tr>\n    <tr>\n      <th>2</th>\n      <td>自闭症</td>\n      <td>Autism</td>\n      <td>显著高于一般人群</td>\n      <td>{'rs10038113': [['T', 0.28517894223366247]], '...</td>\n    </tr>\n    <tr>\n      <th>3</th>\n      <td>胰腺癌</td>\n      <td>Pancreatic cancer</td>\n      <td>高于一般人群</td>\n      <td>{'rs2039553': [['A', 0.5481214085096876]], 'rs...</td>\n    </tr>\n    <tr>\n      <th>4</th>\n      <td>强直性脊柱炎</td>\n      <td>Ankylosing spondylitis</td>\n      <td>高于一般人群</td>\n      <td>{'rs10865331': [['A', 0.23901690047049992]], '...</td>\n    </tr>\n  </tbody>\n</table>\n</div>"
     },
     "metadata": {},
     "execution_count": 18
    }
   ],
   "source": [
    "#文字版描述（output_data_2）\n",
    "output_data_2=output_data.copy()\n",
    "for index in range(output_data_2.shape[0]):\n",
    "    try:\n",
    "        output_data_2['risk_ratio'][index]=Risk_Level_1(output_data_2['risk_ratio'][index])\n",
    "    except:\n",
    "        print(index)\n",
    "output_data_2.head()"
   ]
  },
  {
   "cell_type": "code",
   "execution_count": 19,
   "metadata": {},
   "outputs": [
    {
     "output_type": "stream",
     "name": "stderr",
     "text": [
      "D:\\ProgramData\\Anaconda3\\lib\\site-packages\\ipykernel_launcher.py:5: SettingWithCopyWarning: \nA value is trying to be set on a copy of a slice from a DataFrame\n\nSee the caveats in the documentation: http://pandas.pydata.org/pandas-docs/stable/indexing.html#indexing-view-versus-copy\n  \"\"\"\n"
     ]
    },
    {
     "output_type": "execute_result",
     "data": {
      "text/plain": [
       "    Chinese                         English  risk_ratio  \\\n",
       "0  进行性核上性麻痹  Progressive supranuclear palsy         5.0   \n",
       "1      赌博倾向           Pathological gambling         5.0   \n",
       "2       自闭症                          Autism         5.0   \n",
       "3       胰腺癌               Pancreatic cancer         4.0   \n",
       "4    强直性脊柱炎          Ankylosing spondylitis         4.0   \n",
       "\n",
       "                                            SNP_info  \n",
       "0          {'rs242557': [['G', 0.6450592697528901]]}  \n",
       "1         {'rs7591351': [['T', 0.5128236264286637]]}  \n",
       "2  {'rs10038113': [['T', 0.28517894223366247]], '...  \n",
       "3  {'rs2039553': [['A', 0.5481214085096876]], 'rs...  \n",
       "4  {'rs10865331': [['A', 0.23901690047049992]], '...  "
      ],
      "text/html": "<div>\n<style scoped>\n    .dataframe tbody tr th:only-of-type {\n        vertical-align: middle;\n    }\n\n    .dataframe tbody tr th {\n        vertical-align: top;\n    }\n\n    .dataframe thead th {\n        text-align: right;\n    }\n</style>\n<table border=\"1\" class=\"dataframe\">\n  <thead>\n    <tr style=\"text-align: right;\">\n      <th></th>\n      <th>Chinese</th>\n      <th>English</th>\n      <th>risk_ratio</th>\n      <th>SNP_info</th>\n    </tr>\n  </thead>\n  <tbody>\n    <tr>\n      <th>0</th>\n      <td>进行性核上性麻痹</td>\n      <td>Progressive supranuclear palsy</td>\n      <td>5.0</td>\n      <td>{'rs242557': [['G', 0.6450592697528901]]}</td>\n    </tr>\n    <tr>\n      <th>1</th>\n      <td>赌博倾向</td>\n      <td>Pathological gambling</td>\n      <td>5.0</td>\n      <td>{'rs7591351': [['T', 0.5128236264286637]]}</td>\n    </tr>\n    <tr>\n      <th>2</th>\n      <td>自闭症</td>\n      <td>Autism</td>\n      <td>5.0</td>\n      <td>{'rs10038113': [['T', 0.28517894223366247]], '...</td>\n    </tr>\n    <tr>\n      <th>3</th>\n      <td>胰腺癌</td>\n      <td>Pancreatic cancer</td>\n      <td>4.0</td>\n      <td>{'rs2039553': [['A', 0.5481214085096876]], 'rs...</td>\n    </tr>\n    <tr>\n      <th>4</th>\n      <td>强直性脊柱炎</td>\n      <td>Ankylosing spondylitis</td>\n      <td>4.0</td>\n      <td>{'rs10865331': [['A', 0.23901690047049992]], '...</td>\n    </tr>\n  </tbody>\n</table>\n</div>"
     },
     "metadata": {},
     "execution_count": 19
    }
   ],
   "source": [
    "#1-5个等级（output_data_3）\n",
    "output_data_3=output_data.copy()\n",
    "for index in range(output_data_3.shape[0]):\n",
    "    try:\n",
    "        output_data_3['risk_ratio'][index]=Risk_Level_2(output_data_3['risk_ratio'][index])\n",
    "    except:\n",
    "        print(index)\n",
    "output_data_3.head()"
   ]
  },
  {
   "source": [
    "# 输出到excel"
   ],
   "cell_type": "markdown",
   "metadata": {}
  },
  {
   "cell_type": "code",
   "execution_count": 20,
   "metadata": {},
   "outputs": [],
   "source": [
    "output_data.to_excel('D:/2_Professional Courses/132_基因项目/新模型/旧数据最终的输出结果/output1.xls',index=False)\n",
    "output_data_2.to_excel('D:/2_Professional Courses/132_基因项目/新模型/旧数据最终的输出结果/output2.xls',index=False)\n",
    "output_data_3.to_excel('D:/2_Professional Courses/132_基因项目/新模型/旧数据最终的输出结果/output3.xls',index=False)"
   ]
  },
  {
   "cell_type": "code",
   "execution_count": 24,
   "metadata": {},
   "outputs": [],
   "source": [
    "# 输出群体的RR平均值\n",
    "Group_RR=pd.DataFrame(data_OR, columns=['Chinese', 'English'])\n",
    "Group_RR['RR_avg']=RR_avg\n",
    "Group_RR.to_excel('RR_avg.xls')"
   ]
  },
  {
   "cell_type": "code",
   "execution_count": 22,
   "metadata": {},
   "outputs": [
    {
     "output_type": "execute_result",
     "data": {
      "text/plain": [
       "     Chinese                       English    RR_avg\n",
       "0       黑色素瘤                      Melanoma  0.091683\n",
       "1  慢性淋巴细胞白血病  Chronic lymphocytic leukemia  0.478519\n",
       "2     成神经细胞瘤                 Neuroblastoma  0.666667\n",
       "3       尤文肉瘤                 Ewing sarcoma  0.833333\n",
       "4      基底细胞癌          Basal cell carcinoma  0.255319"
      ],
      "text/html": "<div>\n<style scoped>\n    .dataframe tbody tr th:only-of-type {\n        vertical-align: middle;\n    }\n\n    .dataframe tbody tr th {\n        vertical-align: top;\n    }\n\n    .dataframe thead th {\n        text-align: right;\n    }\n</style>\n<table border=\"1\" class=\"dataframe\">\n  <thead>\n    <tr style=\"text-align: right;\">\n      <th></th>\n      <th>Chinese</th>\n      <th>English</th>\n      <th>RR_avg</th>\n    </tr>\n  </thead>\n  <tbody>\n    <tr>\n      <th>0</th>\n      <td>黑色素瘤</td>\n      <td>Melanoma</td>\n      <td>0.091683</td>\n    </tr>\n    <tr>\n      <th>1</th>\n      <td>慢性淋巴细胞白血病</td>\n      <td>Chronic lymphocytic leukemia</td>\n      <td>0.478519</td>\n    </tr>\n    <tr>\n      <th>2</th>\n      <td>成神经细胞瘤</td>\n      <td>Neuroblastoma</td>\n      <td>0.666667</td>\n    </tr>\n    <tr>\n      <th>3</th>\n      <td>尤文肉瘤</td>\n      <td>Ewing sarcoma</td>\n      <td>0.833333</td>\n    </tr>\n    <tr>\n      <th>4</th>\n      <td>基底细胞癌</td>\n      <td>Basal cell carcinoma</td>\n      <td>0.255319</td>\n    </tr>\n  </tbody>\n</table>\n</div>"
     },
     "metadata": {},
     "execution_count": 22
    }
   ],
   "source": [
    "Group_RR.head()"
   ]
  },
  {
   "cell_type": "code",
   "execution_count": 2,
   "metadata": {},
   "outputs": [
    {
     "output_type": "execute_result",
     "data": {
      "text/plain": [
       "str"
      ]
     },
     "metadata": {},
     "execution_count": 2
    }
   ],
   "source": [
    "a=[1,2,3,4]\n",
    "type(str(len(a)))"
   ]
  },
  {
   "cell_type": "code",
   "execution_count": null,
   "metadata": {},
   "outputs": [],
   "source": []
  }
 ]
}