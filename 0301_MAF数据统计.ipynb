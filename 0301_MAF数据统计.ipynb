{
 "metadata": {
  "language_info": {
   "codemirror_mode": {
    "name": "ipython",
    "version": 3
   },
   "file_extension": ".py",
   "mimetype": "text/x-python",
   "name": "python",
   "nbconvert_exporter": "python",
   "pygments_lexer": "ipython3",
   "version": "3.7.0"
  },
  "orig_nbformat": 4,
  "kernelspec": {
   "name": "python3",
   "display_name": "Python 3.7.0 64-bit ('ProgramData': virtualenv)"
  },
  "interpreter": {
   "hash": "73e03da126b73bfff3642ec5261d56fa25c444ea595de51041687efaa60dda41"
  }
 },
 "nbformat": 4,
 "nbformat_minor": 2,
 "cells": [
  {
   "source": [
    "# RR_avg.xlsx"
   ],
   "cell_type": "markdown",
   "metadata": {}
  },
  {
   "cell_type": "code",
   "execution_count": 29,
   "metadata": {},
   "outputs": [],
   "source": [
    "import pandas as pd\n",
    "RR_avg=pd.read_excel('RR_avg.xlsx')"
   ]
  },
  {
   "cell_type": "code",
   "execution_count": 30,
   "metadata": {},
   "outputs": [],
   "source": [
    "RR_avg=pd.DataFrame(columns=['English', 'OR_score_sum', 'OR_count', 'SC_score_sum', 'SC_count',  'SD_score_sum', 'SD_count'])"
   ]
  },
  {
   "cell_type": "code",
   "execution_count": 31,
   "metadata": {},
   "outputs": [],
   "source": [
    "#建立英文名列\n",
    "disease_35=pd.read_excel('35_disease_name.xlsx')"
   ]
  },
  {
   "cell_type": "code",
   "execution_count": 32,
   "metadata": {},
   "outputs": [],
   "source": [
    "disease_english_35=disease_35['English'].tolist()"
   ]
  },
  {
   "cell_type": "code",
   "execution_count": 34,
   "metadata": {},
   "outputs": [],
   "source": [
    "disease_199=pd.read_csv('199_disease_name.csv')\n",
    "disease_english_199=disease_199['English_GWAS'].tolist()"
   ]
  },
  {
   "cell_type": "code",
   "execution_count": 35,
   "metadata": {},
   "outputs": [],
   "source": [
    "disease_total=disease_english_35+disease_english_199"
   ]
  },
  {
   "cell_type": "code",
   "execution_count": 36,
   "metadata": {},
   "outputs": [],
   "source": [
    "RR_avg['English']=pd.Series(disease_total)"
   ]
  },
  {
   "cell_type": "code",
   "execution_count": 37,
   "metadata": {},
   "outputs": [
    {
     "output_type": "execute_result",
     "data": {
      "text/plain": [
       "                English OR_score_sum OR_count SC_score_sum SC_count  \\\n",
       "0           Wilms tumor          NaN      NaN          NaN      NaN   \n",
       "1          Liver cancer          NaN      NaN          NaN      NaN   \n",
       "2    Carotid dissection          NaN      NaN          NaN      NaN   \n",
       "3  Sudden cardiac death          NaN      NaN          NaN      NaN   \n",
       "4  Gestational diabetes          NaN      NaN          NaN      NaN   \n",
       "\n",
       "  SD_score_sum SD_count  \n",
       "0          NaN      NaN  \n",
       "1          NaN      NaN  \n",
       "2          NaN      NaN  \n",
       "3          NaN      NaN  \n",
       "4          NaN      NaN  "
      ],
      "text/html": "<div>\n<style scoped>\n    .dataframe tbody tr th:only-of-type {\n        vertical-align: middle;\n    }\n\n    .dataframe tbody tr th {\n        vertical-align: top;\n    }\n\n    .dataframe thead th {\n        text-align: right;\n    }\n</style>\n<table border=\"1\" class=\"dataframe\">\n  <thead>\n    <tr style=\"text-align: right;\">\n      <th></th>\n      <th>English</th>\n      <th>OR_score_sum</th>\n      <th>OR_count</th>\n      <th>SC_score_sum</th>\n      <th>SC_count</th>\n      <th>SD_score_sum</th>\n      <th>SD_count</th>\n    </tr>\n  </thead>\n  <tbody>\n    <tr>\n      <th>0</th>\n      <td>Wilms tumor</td>\n      <td>NaN</td>\n      <td>NaN</td>\n      <td>NaN</td>\n      <td>NaN</td>\n      <td>NaN</td>\n      <td>NaN</td>\n    </tr>\n    <tr>\n      <th>1</th>\n      <td>Liver cancer</td>\n      <td>NaN</td>\n      <td>NaN</td>\n      <td>NaN</td>\n      <td>NaN</td>\n      <td>NaN</td>\n      <td>NaN</td>\n    </tr>\n    <tr>\n      <th>2</th>\n      <td>Carotid dissection</td>\n      <td>NaN</td>\n      <td>NaN</td>\n      <td>NaN</td>\n      <td>NaN</td>\n      <td>NaN</td>\n      <td>NaN</td>\n    </tr>\n    <tr>\n      <th>3</th>\n      <td>Sudden cardiac death</td>\n      <td>NaN</td>\n      <td>NaN</td>\n      <td>NaN</td>\n      <td>NaN</td>\n      <td>NaN</td>\n      <td>NaN</td>\n    </tr>\n    <tr>\n      <th>4</th>\n      <td>Gestational diabetes</td>\n      <td>NaN</td>\n      <td>NaN</td>\n      <td>NaN</td>\n      <td>NaN</td>\n      <td>NaN</td>\n      <td>NaN</td>\n    </tr>\n  </tbody>\n</table>\n</div>"
     },
     "metadata": {},
     "execution_count": 37
    }
   ],
   "source": [
    "RR_avg.head()"
   ]
  },
  {
   "cell_type": "code",
   "execution_count": 38,
   "metadata": {},
   "outputs": [],
   "source": [
    "RR_avg.to_excel('RR_avg.xlsx', index=False)"
   ]
  },
  {
   "source": [
    "# SD_score.xlsx"
   ],
   "cell_type": "markdown",
   "metadata": {}
  },
  {
   "cell_type": "code",
   "execution_count": 37,
   "metadata": {},
   "outputs": [],
   "source": [
    "SD_score=pd.DataFrame(columns=['English', 'OR_score'])"
   ]
  },
  {
   "cell_type": "code",
   "execution_count": 38,
   "metadata": {},
   "outputs": [],
   "source": [
    "SD_score.to_excel('SD_score.xlsx', index=False)"
   ]
  },
  {
   "source": [
    "# 查看函数情况"
   ],
   "cell_type": "markdown",
   "metadata": {}
  },
  {
   "cell_type": "code",
   "execution_count": 19,
   "metadata": {},
   "outputs": [
    {
     "output_type": "stream",
     "name": "stdout",
     "text": [
      "  English OR_score\n",
      "0       B        2\n",
      "1       B        2\n",
      "2       B        2\n",
      "3       B        2\n",
      "4       B        2\n",
      "5       B        2\n",
      "6       B        2\n",
      "[2.0, 2.0, 2.0, 2.0, 2.0, 2.0, 2.0]\n",
      "inf\n",
      "d:\\2_Professional Courses\\132_基因项目\\新模型\\PRSsd.py:34: RuntimeWarning: divide by zero encountered in double_scalars\n",
      "  risk_score=abs(risk_score-prsmean)/prssd\n"
     ]
    }
   ],
   "source": [
    "import PRSsd\n",
    "print(PRSsd.Method3_PRSsd('B', '2'))"
   ]
  },
  {
   "source": [
    "# 文件名前缀\n"
   ],
   "cell_type": "markdown",
   "metadata": {}
  },
  {
   "cell_type": "code",
   "execution_count": 40,
   "metadata": {},
   "outputs": [],
   "source": [
    "file_dir='D:\\2_Professional Courses\\132_基因项目\\新模型'\n",
    "file_prefix=file_dir.split(\"\\\\\")[-1]"
   ]
  },
  {
   "cell_type": "code",
   "execution_count": 41,
   "metadata": {},
   "outputs": [
    {
     "output_type": "execute_result",
     "data": {
      "text/plain": [
       "'新模型'"
      ]
     },
     "metadata": {},
     "execution_count": 41
    }
   ],
   "source": [
    "file_prefix"
   ]
  },
  {
   "cell_type": "code",
   "execution_count": 48,
   "metadata": {},
   "outputs": [
    {
     "output_type": "execute_result",
     "data": {
      "text/plain": [
       "False"
      ]
     },
     "metadata": {},
     "execution_count": 48
    }
   ],
   "source": [
    "import numpy as np\n",
    "A=1\n",
    "np.isnan(A)"
   ]
  },
  {
   "cell_type": "code",
   "execution_count": 55,
   "metadata": {},
   "outputs": [],
   "source": [
    "Disease_Avai=pd.read_excel('35_disease_name.xlsx')"
   ]
  },
  {
   "cell_type": "code",
   "execution_count": 65,
   "metadata": {},
   "outputs": [],
   "source": [
    "    file_dir='D:/2_Professional Courses/132_基因项目/GWAS数据/新增_20基因数据/1.vcf'\n",
    "    file_prefix=file_dir.split(\"/\")[-1]\n",
    "    Disease_Avai.to_excel(file_prefix+'_valid.xlsx',index=False)"
   ]
  },
  {
   "cell_type": "code",
   "execution_count": 66,
   "metadata": {},
   "outputs": [
    {
     "output_type": "execute_result",
     "data": {
      "text/plain": [
       "'1.vcf'"
      ]
     },
     "metadata": {},
     "execution_count": 66
    }
   ],
   "source": [
    "file_prefix"
   ]
  },
  {
   "cell_type": "code",
   "execution_count": 73,
   "metadata": {},
   "outputs": [
    {
     "output_type": "stream",
     "name": "stdout",
     "text": [
      "nan\nnan\n"
     ]
    }
   ],
   "source": [
    "RR_avg=pd.read_excel('RR_avg.xlsx')\n",
    "typee='OR'\n",
    "for index, row in RR_avg.iterrows():\n",
    "    if row['English']== 'Endometrial cancer':\n",
    "        if typee=='OR':\n",
    "            if row['OR_count']==0:\n",
    "                print(1)\n",
    "            elif row['OR_score_sum']==0:\n",
    "                print('群体风险值为0')\n",
    "            else:\n",
    "                group_avg= row['OR_score_sum']/row['OR_count']\n",
    "\n",
    "        elif typee=='SC':\n",
    "            if row['SC_count']==0:\n",
    "                print(1)\n",
    "            elif row['OR_score_sum']==0:\n",
    "                print('群体风险值为0')\n",
    "            else:\n",
    "                group_avg= row['SC_score_sum']/row['SC_count']\n",
    "\n",
    "        elif typee=='SD':\n",
    "            if row['SD_count']==0:\n",
    "                print(1)\n",
    "            elif row['OR_score_sum']==0:\n",
    "                print('群体风险值为0')\n",
    "            else:\n",
    "                group_avg= row['SD_score_sum']/row['SD_count']\n",
    "        break\n",
    "\n",
    "print(group_avg)\n",
    "print(1.0/group_avg)"
   ]
  },
  {
   "source": [
    "# 为什么出现了这么诡异的情况？？？(从float反而变为nan)"
   ],
   "cell_type": "markdown",
   "metadata": {}
  },
  {
   "cell_type": "code",
   "execution_count": 90,
   "metadata": {},
   "outputs": [
    {
     "output_type": "stream",
     "name": "stdout",
     "text": [
      "English         Photic sneeze reflex\nOR_score_sum                       0\nOR_count                          21\nSC_score_sum                       0\nSC_count                          21\nSD_score_sum                       0\nSD_count                          21\nName: 170, dtype: object\n"
     ]
    }
   ],
   "source": [
    "RR_avg=pd.read_excel('previous_RR.xlsx')\n",
    "for index, row in RR_avg.iterrows():\n",
    "    if row['English']== 'Photic sneeze reflex':\n",
    "        print(RR_avg.loc[index])\n",
    "        previous=row"
   ]
  },
  {
   "cell_type": "code",
   "execution_count": 91,
   "metadata": {},
   "outputs": [
    {
     "output_type": "stream",
     "name": "stdout",
     "text": [
      "English         Photic sneeze reflex\nOR_score_sum                     NaN\nOR_count                          22\nSC_score_sum                       0\nSC_count                          22\nSD_score_sum                       0\nSD_count                          22\nName: 170, dtype: object\n"
     ]
    }
   ],
   "source": [
    "RR_avg=pd.read_excel('RR_avg.xlsx')\n",
    "for index, row in RR_avg.iterrows():\n",
    "    if row['English']== 'Photic sneeze reflex':\n",
    "        print(RR_avg.loc[index])\n",
    "        current=row"
   ]
  },
  {
   "cell_type": "code",
   "execution_count": 96,
   "metadata": {},
   "outputs": [
    {
     "output_type": "stream",
     "name": "stdout",
     "text": [
      "<class 'float'>\n0.0\nFalse\n<class 'float'>\nnan\nTrue\n"
     ]
    }
   ],
   "source": [
    "print(type(previous['OR_score_sum']))\n",
    "print(previous['OR_score_sum'])\n",
    "print(np.isnan(previous['OR_score_sum']))\n",
    "\n",
    "print(type(current['OR_score_sum']))\n",
    "print(current['OR_score_sum'])\n",
    "print(np.isnan(current['OR_score_sum']))"
   ]
  },
  {
   "cell_type": "code",
   "execution_count": 98,
   "metadata": {},
   "outputs": [],
   "source": [
    "RR_avg=pd.read_excel('RR_avg.xlsx')\n",
    "RR_avg.to_excel('report/'+'rr.xlsx')"
   ]
  },
  {
   "source": [
    "## 统计SNP位点个数（12104）\n",
    "新加入20kMAF数据"
   ],
   "cell_type": "markdown",
   "metadata": {}
  },
  {
   "cell_type": "code",
   "execution_count": 46,
   "metadata": {},
   "outputs": [
    {
     "output_type": "execute_result",
     "data": {
      "text/plain": [
       "         rs_ID           MAF\n",
       "0  rs367896724  CCC=0.425319\n",
       "1  rs555500075     AA=0.4375\n",
       "2  rs575272151   G=0.0880591\n",
       "3  rs544419019   G=0.0880591\n",
       "4   rs62635286   G=0.0970447\n",
       "5   rs62028691   G=0.0970447\n",
       "6  rs531730856   C=0.0950479\n",
       "7  rs546169444   T=0.0958466\n",
       "8     rs707680    A=0.147564\n",
       "9  rs541940975    G=0.147564"
      ],
      "text/html": "<div>\n<style scoped>\n    .dataframe tbody tr th:only-of-type {\n        vertical-align: middle;\n    }\n\n    .dataframe tbody tr th {\n        vertical-align: top;\n    }\n\n    .dataframe thead th {\n        text-align: right;\n    }\n</style>\n<table border=\"1\" class=\"dataframe\">\n  <thead>\n    <tr style=\"text-align: right;\">\n      <th></th>\n      <th>rs_ID</th>\n      <th>MAF</th>\n    </tr>\n  </thead>\n  <tbody>\n    <tr>\n      <th>0</th>\n      <td>rs367896724</td>\n      <td>CCC=0.425319</td>\n    </tr>\n    <tr>\n      <th>1</th>\n      <td>rs555500075</td>\n      <td>AA=0.4375</td>\n    </tr>\n    <tr>\n      <th>2</th>\n      <td>rs575272151</td>\n      <td>G=0.0880591</td>\n    </tr>\n    <tr>\n      <th>3</th>\n      <td>rs544419019</td>\n      <td>G=0.0880591</td>\n    </tr>\n    <tr>\n      <th>4</th>\n      <td>rs62635286</td>\n      <td>G=0.0970447</td>\n    </tr>\n    <tr>\n      <th>5</th>\n      <td>rs62028691</td>\n      <td>G=0.0970447</td>\n    </tr>\n    <tr>\n      <th>6</th>\n      <td>rs531730856</td>\n      <td>C=0.0950479</td>\n    </tr>\n    <tr>\n      <th>7</th>\n      <td>rs546169444</td>\n      <td>T=0.0958466</td>\n    </tr>\n    <tr>\n      <th>8</th>\n      <td>rs707680</td>\n      <td>A=0.147564</td>\n    </tr>\n    <tr>\n      <th>9</th>\n      <td>rs541940975</td>\n      <td>G=0.147564</td>\n    </tr>\n  </tbody>\n</table>\n</div>"
     },
     "metadata": {},
     "execution_count": 46
    }
   ],
   "source": [
    "import pandas as pd\n",
    "maf_20k=pd.read_excel('data_MAF/maf-20k.xlsx')\n",
    "maf_20k.head(10)"
   ]
  },
  {
   "cell_type": "code",
   "execution_count": 47,
   "metadata": {},
   "outputs": [
    {
     "output_type": "execute_result",
     "data": {
      "text/plain": [
       "         rs_ID          MAF\n",
       "0  rs367896724   C=0.425319\n",
       "1  rs555500075     A=0.4375\n",
       "2  rs575272151  G=0.0880591\n",
       "3  rs544419019  G=0.0880591\n",
       "4   rs62635286  G=0.0970447\n",
       "5   rs62028691  G=0.0970447\n",
       "6  rs531730856  C=0.0950479\n",
       "7  rs546169444  T=0.0958466\n",
       "8     rs707680   A=0.147564\n",
       "9  rs541940975   G=0.147564"
      ],
      "text/html": "<div>\n<style scoped>\n    .dataframe tbody tr th:only-of-type {\n        vertical-align: middle;\n    }\n\n    .dataframe tbody tr th {\n        vertical-align: top;\n    }\n\n    .dataframe thead th {\n        text-align: right;\n    }\n</style>\n<table border=\"1\" class=\"dataframe\">\n  <thead>\n    <tr style=\"text-align: right;\">\n      <th></th>\n      <th>rs_ID</th>\n      <th>MAF</th>\n    </tr>\n  </thead>\n  <tbody>\n    <tr>\n      <th>0</th>\n      <td>rs367896724</td>\n      <td>C=0.425319</td>\n    </tr>\n    <tr>\n      <th>1</th>\n      <td>rs555500075</td>\n      <td>A=0.4375</td>\n    </tr>\n    <tr>\n      <th>2</th>\n      <td>rs575272151</td>\n      <td>G=0.0880591</td>\n    </tr>\n    <tr>\n      <th>3</th>\n      <td>rs544419019</td>\n      <td>G=0.0880591</td>\n    </tr>\n    <tr>\n      <th>4</th>\n      <td>rs62635286</td>\n      <td>G=0.0970447</td>\n    </tr>\n    <tr>\n      <th>5</th>\n      <td>rs62028691</td>\n      <td>G=0.0970447</td>\n    </tr>\n    <tr>\n      <th>6</th>\n      <td>rs531730856</td>\n      <td>C=0.0950479</td>\n    </tr>\n    <tr>\n      <th>7</th>\n      <td>rs546169444</td>\n      <td>T=0.0958466</td>\n    </tr>\n    <tr>\n      <th>8</th>\n      <td>rs707680</td>\n      <td>A=0.147564</td>\n    </tr>\n    <tr>\n      <th>9</th>\n      <td>rs541940975</td>\n      <td>G=0.147564</td>\n    </tr>\n  </tbody>\n</table>\n</div>"
     },
     "metadata": {},
     "execution_count": 47
    }
   ],
   "source": [
    "for index, row in maf_20k.iterrows():\n",
    "    try:\n",
    "        temp_MAF = row['MAF'].split('=')\n",
    "        row['MAF'] = temp_MAF[0][0] + '=' + temp_MAF[1]\n",
    "    except AttributeError:\n",
    "        maf_20k.drop(index, inplace=True)\n",
    "maf_20k.head(10)"
   ]
  },
  {
   "cell_type": "code",
   "execution_count": 49,
   "metadata": {},
   "outputs": [
    {
     "output_type": "stream",
     "name": "stdout",
     "text": [
      "(19825, 2)\n"
     ]
    },
    {
     "output_type": "execute_result",
     "data": {
      "text/plain": [
       "       rs_ID          MAF\n",
       "0  rs1001620   C=0.194089\n",
       "1  rs1003237  T=0.0734824\n",
       "2  rs1004125  A=0.0780751\n",
       "3  rs1004176  A=0.0750799\n",
       "4  rs1004649  G=0.0794728"
      ],
      "text/html": "<div>\n<style scoped>\n    .dataframe tbody tr th:only-of-type {\n        vertical-align: middle;\n    }\n\n    .dataframe tbody tr th {\n        vertical-align: top;\n    }\n\n    .dataframe thead th {\n        text-align: right;\n    }\n</style>\n<table border=\"1\" class=\"dataframe\">\n  <thead>\n    <tr style=\"text-align: right;\">\n      <th></th>\n      <th>rs_ID</th>\n      <th>MAF</th>\n    </tr>\n  </thead>\n  <tbody>\n    <tr>\n      <th>0</th>\n      <td>rs1001620</td>\n      <td>C=0.194089</td>\n    </tr>\n    <tr>\n      <th>1</th>\n      <td>rs1003237</td>\n      <td>T=0.0734824</td>\n    </tr>\n    <tr>\n      <th>2</th>\n      <td>rs1004125</td>\n      <td>A=0.0780751</td>\n    </tr>\n    <tr>\n      <th>3</th>\n      <td>rs1004176</td>\n      <td>A=0.0750799</td>\n    </tr>\n    <tr>\n      <th>4</th>\n      <td>rs1004649</td>\n      <td>G=0.0794728</td>\n    </tr>\n  </tbody>\n</table>\n</div>"
     },
     "metadata": {},
     "execution_count": 49
    }
   ],
   "source": [
    "#maf_20k.at[272,'MAF']\n",
    "\n",
    "maf_20k.sort_values(by=['rs_ID'], inplace=True)\n",
    "maf_20k.reset_index(inplace=True, drop=True)\n",
    "print(maf_20k.shape)\n",
    "maf_20k.head()"
   ]
  },
  {
   "cell_type": "code",
   "execution_count": 60,
   "metadata": {},
   "outputs": [],
   "source": [
    "maf_20k_list = maf_20k['rs_ID'].tolist()"
   ]
  },
  {
   "cell_type": "code",
   "execution_count": 51,
   "metadata": {},
   "outputs": [],
   "source": [
    "# 只看能匹配上的rs数\n",
    "SD_GWAS=pd.read_csv('simplified_database_GWAS.csv')\n",
    "SD_GWAS.sort_values(by=['Risk_allele'], inplace=True)\n",
    "SD_GWAS.reset_index(inplace=True, drop=True)"
   ]
  },
  {
   "cell_type": "code",
   "execution_count": 53,
   "metadata": {
    "tags": []
   },
   "outputs": [],
   "source": [
    "rs_count=0\n",
    "rs_allele_count=0\n",
    "temp=0\n",
    "for index, row in SD_GWAS.iterrows():\n",
    "    rs_1 = row['Risk_allele'].split('-')[0]\n",
    "    for maf_j in maf_20k_list[temp:]:\n",
    "\n",
    "        rs_2 = maf_j.split('=')[0]\n",
    "        if rs_1 == rs_2:\n",
    "            print(rs_1)\n",
    "            rs_count = rs_count+1\n",
    "            if row['Risk_allele'].split('-')[1] == maf_j.split('=')[1]:\n",
    "                rs_allele_count = rs_allele_count+1\n",
    "            temp = temp + maf_j\n",
    "            continue"
   ]
  },
  {
   "cell_type": "code",
   "execution_count": 43,
   "metadata": {},
   "outputs": [
    {
     "output_type": "stream",
     "name": "stdout",
     "text": [
      "0\n"
     ]
    }
   ],
   "source": [
    "print(rs_count)"
   ]
  },
  {
   "cell_type": "code",
   "execution_count": 58,
   "metadata": {},
   "outputs": [
    {
     "output_type": "execute_result",
     "data": {
      "text/plain": [
       "12103"
      ]
     },
     "metadata": {},
     "execution_count": 58
    }
   ],
   "source": [
    "SD_list=[]\n",
    "for i in SD_GWAS['Risk_allele']:\n",
    "    SD_list.append(i.split('-')[0])\n",
    "len(SD_list)"
   ]
  },
  {
   "cell_type": "code",
   "execution_count": 55,
   "metadata": {},
   "outputs": [
    {
     "output_type": "stream",
     "name": "stdout",
     "text": [
      "0      rs1001620\n1      rs1003237\n2      rs1004125\n3      rs1004176\n4      rs1004649\n5      rs1004650\n6     rs10047182\n7     rs10047257\n8      rs1005471\n9      rs1009129\n10     rs1009345\n11     rs1009976\n12     rs1011994\n13    rs10127576\n14      rs101287\n15     rs1014988\n16    rs10157040\n17    rs10157057\n18    rs10157102\n19    rs10157140\nName: rs_ID, dtype: object\n"
     ]
    }
   ],
   "source": [
    "print(maf_20k['rs_ID'][:20])"
   ]
  },
  {
   "cell_type": "code",
   "execution_count": 62,
   "metadata": {},
   "outputs": [
    {
     "output_type": "stream",
     "name": "stdout",
     "text": [
      "{'rs12120353', 'rs2016366', 'rs10218452', 'rs6667605', 'rs1555791', 'rs12044274', 'rs2651899', 'rs12103', 'rs10797432', 'rs6670198', 'rs4445406', 'rs12061931', 'rs734999', 'rs4648356', 'rs3890745', 'rs3748817', 'rs4648845', 'rs3748816', 'rs12135062', 'rs7542260', 'rs13303010', 'rs60733400'}\n22\n"
     ]
    }
   ],
   "source": [
    "jiaoji = set(maf_20k_list).intersection(set(SD_list))\n",
    "print(jiaoji)\n",
    "print(len(jiaoji))"
   ]
  },
  {
   "cell_type": "code",
   "execution_count": null,
   "metadata": {},
   "outputs": [],
   "source": []
  }
 ]
}